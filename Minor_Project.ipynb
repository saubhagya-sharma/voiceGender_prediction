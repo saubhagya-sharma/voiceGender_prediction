{
  "nbformat": 4,
  "nbformat_minor": 0,
  "metadata": {
    "colab": {
      "name": "Minor_Project.ipynb",
      "provenance": [],
      "authorship_tag": "ABX9TyMzaUZmSAj3jKOPts2bamt7",
      "include_colab_link": true
    },
    "kernelspec": {
      "name": "python3",
      "display_name": "Python 3"
    },
    "language_info": {
      "name": "python"
    }
  },
  "cells": [
    {
      "cell_type": "markdown",
      "metadata": {
        "id": "view-in-github",
        "colab_type": "text"
      },
      "source": [
        "<a href=\"https://colab.research.google.com/github/saubhagya-sharma/voiceGender_prediction/blob/main/Minor_Project.ipynb\" target=\"_parent\"><img src=\"https://colab.research.google.com/assets/colab-badge.svg\" alt=\"Open In Colab\"/></a>"
      ]
    },
    {
      "cell_type": "markdown",
      "source": [
        "# Minor Project\n",
        "# Gender Prediction with Accoustic data\n",
        "\n",
        "\n",
        "> By: Saubhagya Sharma\n",
        "\n",
        "\n",
        "\n",
        "---\n",
        "\n",
        "\n",
        "\n",
        "---\n",
        "\n"
      ],
      "metadata": {
        "id": "Oh7wI0Y59Dkj"
      }
    },
    {
      "cell_type": "code",
      "execution_count": 23,
      "metadata": {
        "id": "Me7kERTi85Y1"
      },
      "outputs": [],
      "source": [
        "import numpy as np\n",
        "import matplotlib.pyplot as plt\n",
        "import pandas as pd\n",
        "from sklearn.model_selection import train_test_split\n",
        "from sklearn.preprocessing import StandardScaler\n",
        "from sklearn import tree\n",
        "from sklearn.metrics import classification_report, confusion_matrix\n",
        "from sklearn import metrics\n",
        "from sklearn.svm import SVC\n",
        "from sklearn.neighbors import KNeighborsClassifier\n",
        "from sklearn.metrics import precision_score\n",
        "from sklearn import ensemble\n",
        "from sklearn.preprocessing import LabelEncoder\n",
        "from sklearn.linear_model import LogisticRegression\n",
        "from sklearn.metrics import accuracy_score, confusion_matrix"
      ]
    },
    {
      "cell_type": "code",
      "source": [
        "data = pd.read_csv('voice.csv')\n",
        "x = data.iloc[:, :-1].values\n",
        "y = data.iloc[:, -1].values"
      ],
      "metadata": {
        "id": "vwIScaXb_NUP"
      },
      "execution_count": 2,
      "outputs": []
    },
    {
      "cell_type": "markdown",
      "source": [
        "**1)Remove/handle null values (if any)**"
      ],
      "metadata": {
        "id": "nxNZ7O49I-xM"
      }
    },
    {
      "cell_type": "code",
      "source": [
        "print(data.isnull().sum())"
      ],
      "metadata": {
        "colab": {
          "base_uri": "https://localhost:8080/",
          "height": 0
        },
        "id": "E0Oi5ZVS_jMP",
        "outputId": "4d5bc323-f20b-42b9-818b-28270fed44cb"
      },
      "execution_count": 3,
      "outputs": [
        {
          "output_type": "stream",
          "name": "stdout",
          "text": [
            "meanfreq    0\n",
            "sd          0\n",
            "median      0\n",
            "Q25         0\n",
            "Q75         0\n",
            "IQR         0\n",
            "skew        0\n",
            "kurt        0\n",
            "sp.ent      0\n",
            "sfm         0\n",
            "mode        0\n",
            "centroid    0\n",
            "meanfun     0\n",
            "minfun      0\n",
            "maxfun      0\n",
            "meandom     0\n",
            "mindom      0\n",
            "maxdom      0\n",
            "dfrange     0\n",
            "modindx     0\n",
            "label       0\n",
            "dtype: int64\n"
          ]
        }
      ]
    },
    {
      "cell_type": "code",
      "source": [
        "# therefore, there are no null values"
      ],
      "metadata": {
        "id": "MbVpuXNGIvAH"
      },
      "execution_count": 4,
      "outputs": []
    },
    {
      "cell_type": "markdown",
      "source": [
        "**2)Depict percentage distribution of label on a pie chart**"
      ],
      "metadata": {
        "id": "406UHg3UJECW"
      }
    },
    {
      "cell_type": "code",
      "source": [
        "le=LabelEncoder()\n",
        "y=le.fit_transform(y)\n",
        "y"
      ],
      "metadata": {
        "colab": {
          "base_uri": "https://localhost:8080/",
          "height": 0
        },
        "id": "x4mDybAqBcRN",
        "outputId": "b1b66382-bb0e-4d6a-f19a-60d1765616af"
      },
      "execution_count": 5,
      "outputs": [
        {
          "output_type": "execute_result",
          "data": {
            "text/plain": [
              "array([1, 1, 1, ..., 0, 0, 0])"
            ]
          },
          "metadata": {},
          "execution_count": 5
        }
      ]
    },
    {
      "cell_type": "code",
      "source": [
        "print(data['label'].value_counts()['male'])\n",
        "print(data['label'].value_counts()['female'])"
      ],
      "metadata": {
        "colab": {
          "base_uri": "https://localhost:8080/",
          "height": 0
        },
        "id": "LkYegJO8DtGj",
        "outputId": "e2710a52-4cce-4881-d5c6-853a5f8cb240"
      },
      "execution_count": 6,
      "outputs": [
        {
          "output_type": "stream",
          "name": "stdout",
          "text": [
            "1584\n",
            "1584\n"
          ]
        }
      ]
    },
    {
      "cell_type": "code",
      "source": [
        "num=[1584,1584]\n",
        "labels=['male','female']"
      ],
      "metadata": {
        "id": "03OFMgCFH-C1"
      },
      "execution_count": 7,
      "outputs": []
    },
    {
      "cell_type": "code",
      "source": [
        "#genders=['male','female']\n",
        "fig = plt.figure(figsize =(10, 7))\n",
        "plt.pie(num, labels=labels)\n",
        "plt.show()"
      ],
      "metadata": {
        "colab": {
          "base_uri": "https://localhost:8080/",
          "height": 411
        },
        "id": "smi_IkS6_93P",
        "outputId": "95339de5-9660-47c7-a3df-0afe3cd8de4f"
      },
      "execution_count": 8,
      "outputs": [
        {
          "output_type": "display_data",
          "data": {
            "text/plain": [
              "<Figure size 720x504 with 1 Axes>"
            ],
            "image/png": "[encoded data removed]"
          },
          "metadata": {}
        }
      ]
    },
    {
      "cell_type": "code",
      "source": [
        "# The above figure shows that the data set has equal number of male and female voices"
      ],
      "metadata": {
        "id": "M-EPRF79A8vx"
      },
      "execution_count": 9,
      "outputs": []
    },
    {
      "cell_type": "markdown",
      "source": [
        "**3)Considering all the features as independent feature and label as dependent feature,\n",
        "split the dataset training and testing data with test size=20%**"
      ],
      "metadata": {
        "id": "0gV3eEkJJJdE"
      }
    },
    {
      "cell_type": "code",
      "source": [
        "x_train, x_test, y_train, y_test = train_test_split(x, y, test_size = 0.2, random_state = 0)"
      ],
      "metadata": {
        "id": "3LhFPDzfIrQu"
      },
      "execution_count": 10,
      "outputs": []
    },
    {
      "cell_type": "markdown",
      "source": [
        "**4)Apply the following classifier models on training dataset and generate predictions for\n",
        "the test dataset**"
      ],
      "metadata": {
        "id": "aF1G0MHCtbgf"
      }
    },
    {
      "cell_type": "markdown",
      "source": [
        "**a. Decision Tree Classifier**"
      ],
      "metadata": {
        "id": "qwNq5CW0yXW3"
      }
    },
    {
      "cell_type": "code",
      "source": [
        "dtc = tree.DecisionTreeClassifier()\n",
        "dtc.fit(x_train,y_train)\n",
        "y_dtc = dtc.predict(x_test)\n",
        "print(accuracy_score(y_test, y_dtc))"
      ],
      "metadata": {
        "colab": {
          "base_uri": "https://localhost:8080/",
          "height": 0
        },
        "id": "kj_xdDZjyZsO",
        "outputId": "ea27cf74-5269-44e0-f5b4-4cb2b78c544d"
      },
      "execution_count": 11,
      "outputs": [
        {
          "output_type": "stream",
          "name": "stdout",
          "text": [
            "0.9526813880126183\n"
          ]
        }
      ]
    },
    {
      "cell_type": "markdown",
      "source": [
        "The accuracy of this model is 95%. This shows that the model effectively recognizes female and male voices."
      ],
      "metadata": {
        "id": "cvYftuftyxkv"
      }
    },
    {
      "cell_type": "code",
      "source": [
        "#confusion matrix\n",
        "print(confusion_matrix(y_test, y_dtc))"
      ],
      "metadata": {
        "colab": {
          "base_uri": "https://localhost:8080/",
          "height": 0
        },
        "id": "iALAuszY1Iuf",
        "outputId": "8493b0ad-6056-4f2f-f245-e8cc1333cb0c"
      },
      "execution_count": 12,
      "outputs": [
        {
          "output_type": "stream",
          "name": "stdout",
          "text": [
            "[[286  15]\n",
            " [ 15 318]]\n"
          ]
        }
      ]
    },
    {
      "cell_type": "markdown",
      "source": [
        "**b. Random Forest Classifier**"
      ],
      "metadata": {
        "id": "EMvRvs2h3I5U"
      }
    },
    {
      "cell_type": "code",
      "source": [
        "rf = ensemble.RandomForestClassifier()\n",
        "rf.fit(x_train, y_train)\n",
        "y_rf = rf.predict(x_test)\n",
        "\n",
        "print(accuracy_score(y_test, y_rf))"
      ],
      "metadata": {
        "colab": {
          "base_uri": "https://localhost:8080/",
          "height": 0
        },
        "id": "EMfLkGHo3WKR",
        "outputId": "01d41ba4-c50a-4fb8-b8ed-079dd536af7a"
      },
      "execution_count": 13,
      "outputs": [
        {
          "output_type": "stream",
          "name": "stdout",
          "text": [
            "0.9794952681388013\n"
          ]
        }
      ]
    },
    {
      "cell_type": "markdown",
      "source": [
        "This model is the one with the highest accuracy of 98%"
      ],
      "metadata": {
        "id": "Iij0EpVR3qOQ"
      }
    },
    {
      "cell_type": "code",
      "source": [
        "#confusion matrix\n",
        "print(confusion_matrix(y_test, y_rf))"
      ],
      "metadata": {
        "colab": {
          "base_uri": "https://localhost:8080/",
          "height": 0
        },
        "id": "TyG7eidf3x0t",
        "outputId": "90c2ac0c-b369-40c7-8b76-db964d2d2fb0"
      },
      "execution_count": 14,
      "outputs": [
        {
          "output_type": "stream",
          "name": "stdout",
          "text": [
            "[[293   8]\n",
            " [  5 328]]\n"
          ]
        }
      ]
    },
    {
      "cell_type": "markdown",
      "source": [
        "**c. KNN Classifier**"
      ],
      "metadata": {
        "id": "wOf5V46zXXmS"
      }
    },
    {
      "cell_type": "code",
      "source": [
        "knc = KNeighborsClassifier(n_neighbors = 3, metric = 'minkowski', p = 3)\n",
        "knc.fit(x_train, y_train)\n",
        "y_knc = knc.predict(x_test)\n",
        "\n",
        "print(accuracy_score(y_test, y_knc))"
      ],
      "metadata": {
        "colab": {
          "base_uri": "https://localhost:8080/",
          "height": 0
        },
        "id": "dajCRPKpZepN",
        "outputId": "7d096dec-c5b0-4a3c-d125-c43784f8a0f0"
      },
      "execution_count": 34,
      "outputs": [
        {
          "output_type": "stream",
          "name": "stdout",
          "text": [
            "0.7129337539432177\n"
          ]
        }
      ]
    },
    {
      "cell_type": "markdown",
      "source": [
        "This model has a very low accuracy of 71%."
      ],
      "metadata": {
        "id": "O0opgDBpafFl"
      }
    },
    {
      "cell_type": "code",
      "source": [
        "#confusion matrix\n",
        "print(confusion_matrix(y_test, y_knc))"
      ],
      "metadata": {
        "colab": {
          "base_uri": "https://localhost:8080/",
          "height": 0
        },
        "id": "WIKl1BdsaeMX",
        "outputId": "c2672fd4-50e2-4616-ef32-92b1c5283bef"
      },
      "execution_count": 35,
      "outputs": [
        {
          "output_type": "stream",
          "name": "stdout",
          "text": [
            "[[203  98]\n",
            " [ 84 249]]\n"
          ]
        }
      ]
    },
    {
      "cell_type": "markdown",
      "source": [
        "**d. Logistic Regression**"
      ],
      "metadata": {
        "id": "2X-BODFgte7f"
      }
    },
    {
      "cell_type": "code",
      "source": [
        "lr = LogisticRegression(solver='liblinear')\n",
        "lr.fit(x_train,y_train)\n",
        "y_lr = lr.predict(x_test)\n",
        "\n",
        "lr_score = accuracy_score(y_test, y_lr)\n",
        "print(lr_score)"
      ],
      "metadata": {
        "colab": {
          "base_uri": "https://localhost:8080/",
          "height": 0
        },
        "id": "WvaneDqJtlyl",
        "outputId": "39e5e7a5-35f5-4d6a-c93f-efa1e99b491e"
      },
      "execution_count": 20,
      "outputs": [
        {
          "output_type": "stream",
          "name": "stdout",
          "text": [
            "0.9148264984227129\n"
          ]
        }
      ]
    },
    {
      "cell_type": "markdown",
      "source": [
        "The accuracy of this model is 91% which is a good score but it can probably be improved."
      ],
      "metadata": {
        "id": "yi8Uz8y4w2sX"
      }
    },
    {
      "cell_type": "code",
      "source": [
        "#confusion matrix\n",
        "print(confusion_matrix(y_test, y_lr))"
      ],
      "metadata": {
        "colab": {
          "base_uri": "https://localhost:8080/",
          "height": 0
        },
        "id": "6yg-d8SdwLDf",
        "outputId": "77f48ed1-3bda-4812-cd67-a586fe5d1c04"
      },
      "execution_count": 21,
      "outputs": [
        {
          "output_type": "stream",
          "name": "stdout",
          "text": [
            "[[257  44]\n",
            " [ 10 323]]\n"
          ]
        }
      ]
    },
    {
      "cell_type": "markdown",
      "source": [
        "**e. SVM Classifier**"
      ],
      "metadata": {
        "id": "scNiHEjOYth-"
      }
    },
    {
      "cell_type": "code",
      "source": [
        "classifier = SVC(kernel = 'linear', random_state = 0)\n",
        "classifier.fit(x_train, y_train)\n",
        "y_classifier = classifier.predict(x_test)\n",
        "\n",
        "print(accuracy_score(y_test, y_classifier))"
      ],
      "metadata": {
        "colab": {
          "base_uri": "https://localhost:8080/",
          "height": 0
        },
        "id": "xyZPDmwLXcol",
        "outputId": "38329701-d549-41ad-f54a-4fb996ad2b66"
      },
      "execution_count": 16,
      "outputs": [
        {
          "output_type": "stream",
          "name": "stdout",
          "text": [
            "0.9274447949526814\n"
          ]
        }
      ]
    },
    {
      "cell_type": "markdown",
      "source": [
        "The accuracy of this model is 92%. This can be better."
      ],
      "metadata": {
        "id": "DLKaKjVSYS7T"
      }
    },
    {
      "cell_type": "code",
      "source": [
        "#confusion matrix\n",
        "print(confusion_matrix(y_test, y_classifier))"
      ],
      "metadata": {
        "colab": {
          "base_uri": "https://localhost:8080/",
          "height": 0
        },
        "id": "mjQ3m9_nYkJ_",
        "outputId": "86d4c8f5-ead7-4b00-c3ae-cbbd63958e3c"
      },
      "execution_count": 19,
      "outputs": [
        {
          "output_type": "stream",
          "name": "stdout",
          "text": [
            "[[260  41]\n",
            " [  5 328]]\n"
          ]
        }
      ]
    },
    {
      "cell_type": "markdown",
      "source": [
        "From the above code we draw the conclusion that some models work really good for predicting gender on our data set while others not so good.\n",
        "\n",
        "Random forest classifier works amazingly with 98% accuracy.\n",
        "\n",
        "whereas, K Nearest Neighbour Model works with only 71% accuracy.\n",
        "\n",
        "**Therefore, it is safe to say that *Random Forest Classifier* is the best suited model for the problem statement**"
      ],
      "metadata": {
        "id": "A1AC9xsnaqV0"
      }
    }
  ]
}